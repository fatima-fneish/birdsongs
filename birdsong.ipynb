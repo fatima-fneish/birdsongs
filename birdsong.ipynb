{
 "cells": [
  {
   "cell_type": "markdown",
   "id": "3928ddd0-106e-4f52-9f44-17686b499d3a",
   "metadata": {},
   "source": [
    "<center> <h1> <b>BIRDSONGS<b></h1> </center>\n",
    "<center> <h1>Birdsong Tutorial</h1> </center>"
   ]
  },
  {
   "cell_type": "markdown",
   "id": "0deff139-7ffa-4c61-9a26-68ed0eb9ad89",
   "metadata": {},
   "source": [
    "# Define Objects"
   ]
  },
  {
   "cell_type": "code",
   "execution_count": 15,
   "id": "f6e21f64-ea16-4435-bbec-08b0a642d3cc",
   "metadata": {},
   "outputs": [],
   "source": [
    "# the following line enable interact with figures, \n",
    "# you can make zoom and save images from a poup matplotlib window\n",
    "#%matplotlib qt\n",
    "#notebook qt ipympl tk qt\n",
    "\n",
    "# from birdsongs import Ploter, BirdSong, Paths, Optimizer\n",
    "import birdsongs as bs\n",
    "from birdsongs.utils import *"
   ]
  },
  {
   "cell_type": "markdown",
   "id": "1177b1d5-4d38-4fbf-a4c0-e25ab5b497c9",
   "metadata": {},
   "source": [
    "Define Path and Ploter objects"
   ]
  },
  {
   "cell_type": "code",
   "execution_count": null,
   "id": "8ede83e4-dbcf-422c-8da1-290669373323",
   "metadata": {},
   "outputs": [],
   "source": [
    "# root_path   = \"path_to_repository\\\\'\n",
    "# audios_path = \"audios_path\\\\'\n",
    "# bird_name   = \"Zonotrichia capensis\"\n",
    "# audios_path = \"C:\\\\Users\\\\sebas\\\\Documents\\\\GitHub\\\\audios\\\\Dissertation-xeno\\\\\"\n",
    "\n",
    "paths  = bs.Paths()              # root_path, audios_path, bird_name\n",
    "ploter = bs.Ploter(save=False)   # to save figures save=True \n",
    "paths.ShowFiles()"
   ]
  },
  {
   "cell_type": "markdown",
   "id": "b87dd935-73e4-4de1-9261-d4a28ee87b3c",
   "metadata": {},
   "source": [
    "Define, visualize and hear a birdsong object "
   ]
  },
  {
   "cell_type": "code",
   "execution_count": null,
   "id": "2d58d5f1-f4d1-4098-9b9b-24bde30ffdc3",
   "metadata": {},
   "outputs": [],
   "source": [
    "# no_file = int(input(\"Enter the number of song (1 to {0}): \".format(paths.no_files)))\n",
    "birdsong = bs.BirdSong(paths, no_file=2, Nt=5000, umbral=0.15, \n",
    "               flim=(1e3,20e3), split_method=\"amplitud\")\n",
    "ploter.Plot(birdsong, FF_on=False)\n",
    "AudioPlay(birdsong)"
   ]
  },
  {
   "cell_type": "markdown",
   "id": "3ad95093-558d-45fe-a004-a470ca4db0e5",
   "metadata": {},
   "source": [
    "Select interval time points"
   ]
  },
  {
   "cell_type": "code",
   "execution_count": null,
   "id": "556c96b9-4a30-47b3-9398-aa4320e40dd6",
   "metadata": {},
   "outputs": [],
   "source": [
    "klicker = ploter.FindTimes(birdsong, FF_on=False)"
   ]
  },
  {
   "cell_type": "markdown",
   "id": "d90cc934-e382-49a8-9950-7d716dbe356b",
   "metadata": {},
   "source": [
    "Save and show interval time points"
   ]
  },
  {
   "cell_type": "code",
   "execution_count": null,
   "id": "090158df-c2c1-4f9a-b4b5-7e054c55ef71",
   "metadata": {},
   "outputs": [],
   "source": [
    "time_interval = Positions(klicker)\n",
    "time_interval"
   ]
  },
  {
   "cell_type": "markdown",
   "id": "ecc3ceb4-80c1-406c-b163-2cc4b0b18557",
   "metadata": {},
   "source": [
    "# Optimization\n",
    "Define the optimizer object"
   ]
  },
  {
   "cell_type": "code",
   "execution_count": null,
   "id": "06325b04-82f7-4859-8dbc-2f4eb90bfc35",
   "metadata": {},
   "outputs": [],
   "source": [
    "brute         = {'method':'brute', 'Ns':11} \n",
    "optimizer = bs.Optimizer(birdsong, method_kwargs=brute)"
   ]
  },
  {
   "cell_type": "markdown",
   "id": "8d384e80-b627-4572-be5c-2ac80b14a94a",
   "metadata": {},
   "source": [
    "Generate the whole synthetic birdsongs defined by the previous time intervals"
   ]
  },
  {
   "cell_type": "code",
   "execution_count": null,
   "id": "0872d51d-4825-4dad-9bfd-f844ec547183",
   "metadata": {},
   "outputs": [],
   "source": [
    "synth_birdsong = optimizer.SongByTimes(time_intervals)"
   ]
  },
  {
   "cell_type": "markdown",
   "id": "1132617a-d482-4b7b-b1d5-2980e586d58f",
   "metadata": {},
   "source": [
    "Visualize and hear the whole synthetic birdsong"
   ]
  },
  {
   "cell_type": "code",
   "execution_count": null,
   "id": "16e5a6c4-0856-4701-bd5c-81cce0509ee6",
   "metadata": {},
   "outputs": [],
   "source": [
    "ploter.Plot(synth_birdsong) #optimizer.synth_bird)\n",
    "AudioPlay(synth_birdsong) #optimizer.synth_bird)\n",
    "ploter.Result(birdsong, synth_birdsong)"
   ]
  },
  {
   "cell_type": "markdown",
   "id": "c448de1b-0b69-4c17-ad36-76cd58e57ba8",
   "metadata": {},
   "source": [
    "Save the real and synthetic birdsongs as audio WAV files"
   ]
  },
  {
   "cell_type": "code",
   "execution_count": null,
   "id": "1f0e0e69-4065-4bea-a97b-2d6cd439963b",
   "metadata": {},
   "outputs": [],
   "source": [
    "birdsong.WriteAudio(); synth_birdsong.WriteAudio();"
   ]
  },
  {
   "cell_type": "code",
   "execution_count": null,
   "id": "847323cf-4536-4de9-86f8-5a24662b8586",
   "metadata": {},
   "outputs": [],
   "source": []
  },
  {
   "cell_type": "code",
   "execution_count": null,
   "id": "90e2d2db-dd00-4d3c-b188-811536291dc5",
   "metadata": {},
   "outputs": [],
   "source": []
  },
  {
   "cell_type": "code",
   "execution_count": null,
   "id": "103964e1-4393-4354-a3d6-19f33eb4b477",
   "metadata": {},
   "outputs": [],
   "source": []
  },
  {
   "cell_type": "code",
   "execution_count": null,
   "id": "81ab890c-584e-44ab-b2a6-4b8a2953d2e9",
   "metadata": {},
   "outputs": [],
   "source": []
  },
  {
   "cell_type": "code",
   "execution_count": null,
   "id": "f5106b5b-1984-4b6e-9435-61063427932f",
   "metadata": {},
   "outputs": [],
   "source": []
  }
 ],
 "metadata": {
  "kernelspec": {
   "display_name": "Python 3 (ipykernel)",
   "language": "python",
   "name": "python3"
  },
  "language_info": {
   "codemirror_mode": {
    "name": "ipython",
    "version": 3
   },
   "file_extension": ".py",
   "mimetype": "text/x-python",
   "name": "python",
   "nbconvert_exporter": "python",
   "pygments_lexer": "ipython3",
   "version": "3.8.13"
  }
 },
 "nbformat": 4,
 "nbformat_minor": 5
}
