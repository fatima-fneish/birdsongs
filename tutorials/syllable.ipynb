{
 "cells": [
  {
   "cell_type": "markdown",
   "id": "c7b9b040-4f97-48ed-b2f2-51c15969f576",
   "metadata": {},
   "source": [
    "<center> <h1> <b>BIRDSONGS<b></h1> </center>\n",
    "<center> <h1>Syllable Tutorial</h1> </center>"
   ]
  },
  {
   "cell_type": "markdown",
   "id": "b4f84af7-8b32-4dc8-86b6-ba7ad26b7988",
   "metadata": {},
   "source": [
    "# Define Objects"
   ]
  },
  {
   "cell_type": "markdown",
   "id": "1d97b9f2-4bec-4732-9f72-95fbc0b9ad52",
   "metadata": {},
   "source": [
    "Import package and define matplotlib backend"
   ]
  },
  {
   "cell_type": "code",
   "execution_count": null,
   "id": "cf095199-920f-495c-9780-7340e4ed4d6b",
   "metadata": {},
   "outputs": [],
   "source": [
    "# the following line enable interact with figures, \n",
    "# you can make zoom and save images from a poup matplotlib window\n",
    "# to select points: qt ipympl tk. To just visualize: notebook\n",
    "%matplotlib ipympl\n",
    "\n",
    "import birdsongs as bs\n",
    "from birdsongs.utils import *"
   ]
  },
  {
   "cell_type": "markdown",
   "id": "e1f4a99e-5036-46a0-889e-c6315cda2965",
   "metadata": {},
   "source": [
    "Define directories path and show audio files"
   ]
  },
  {
   "cell_type": "code",
   "execution_count": null,
   "id": "030f946a-55b6-44e9-82c9-0960e545127b",
   "metadata": {},
   "outputs": [],
   "source": [
    "# root_path   = \"path_to_repository\\\\'\n",
    "# audios_path = \"audios_path\\\\'\n",
    "# bird_name   = \"Zonotrichia capensis\"\n",
    "# audios_path = \"C:\\\\Users\\\\sebas\\\\Documents\\\\GitHub\\\\audios\\\\Dissertation-xeno\\\\\"#rufous-collared-sparrow\\\\humbolt\\\\\"\n",
    "\n",
    "paths  = bs.Paths()              # root_path, audios_path, bird_name\n",
    "ploter = bs.Ploter(save=True)   # to save figures save=True \n",
    "paths.AudioFiles()"
   ]
  },
  {
   "cell_type": "markdown",
   "id": "6e02adac-dcdc-4152-8a62-ee8183fe0423",
   "metadata": {},
   "source": [
    "Define, visualize and hear birdsong. The same funcion allow to us select the time of interest enabling SelectTime_on option"
   ]
  },
  {
   "cell_type": "code",
   "execution_count": null,
   "id": "e573ce47-5e43-4269-ae2b-392430ab100d",
   "metadata": {},
   "outputs": [],
   "source": [
    "birdsong = bs.BirdSong(paths, no_file=2, NN=512, flim=(1e3,20e3), tlim=(0.,5.),\n",
    "                       Nt=5000, umbral=0.05, split_method=\"amplitud\")\n",
    "ploter.Plot(birdsong, FF_on=False, SelectTime_on=True)\n",
    "AudioPlay(birdsong)"
   ]
  },
  {
   "cell_type": "code",
   "execution_count": null,
   "id": "7ae2affe-5376-4c42-abb6-71d15610c2b4",
   "metadata": {},
   "outputs": [],
   "source": [
    "#time_interval = Positions(ploter.klicker)[0]\n",
    "time_interval = np.array([2.842465632897991, 2.9563384444937864])\n",
    "print(\"Time interval selected: initial time {:.4f} s, final time {:.4f} s\".format(time_interval[0], time_interval[1]))"
   ]
  },
  {
   "cell_type": "code",
   "execution_count": null,
   "id": "4e8d7933-82cf-4fcb-81a1-a3d0408f26a4",
   "metadata": {},
   "outputs": [],
   "source": [
    "syllable = bs.Syllable(birdsong, tlim=time_interval, umbral_FF=1.5, NN=birdsong.NN, Nt=30, \n",
    "                        ide=\"syllable\", no_syllable=2)\n",
    "ploter.Plot(syllable, FF_on=True)\n",
    "AudioPlay(syllable)"
   ]
  },
  {
   "cell_type": "code",
   "execution_count": null,
   "id": "0f612ee4",
   "metadata": {},
   "outputs": [],
   "source": [
    "#plt.figure(); plt.plot(syllable.FF, 'o'); plt.show(); plt.ylim((0, 2e4));\n",
    "#syllable.FF"
   ]
  },
  {
   "cell_type": "markdown",
   "id": "56c3939e-3f61-4b4b-8b94-e20a669c93e2",
   "metadata": {},
   "source": [
    "3D plot (in process)"
   ]
  },
  {
   "cell_type": "code",
   "execution_count": null,
   "id": "411537bb-e537-4ddb-9115-9596a9e16b68",
   "metadata": {},
   "outputs": [],
   "source": [
    "# ploter.Plot3d(birdsong)"
   ]
  },
  {
   "cell_type": "code",
   "execution_count": null,
   "id": "4021c030-9508-4355-b459-b12784964bee",
   "metadata": {},
   "outputs": [],
   "source": [
    "# ploter.Plot(birdsong, FF_on=False, syllable=syllable)"
   ]
  },
  {
   "cell_type": "markdown",
   "id": "fb7e7593-c5dc-464e-8108-f442ec890265",
   "metadata": {},
   "source": [
    "Define syllable with the default syllable extractor"
   ]
  },
  {
   "cell_type": "code",
   "execution_count": null,
   "id": "19c38495-669c-433f-8ecb-5a193b26dbe1",
   "metadata": {},
   "outputs": [],
   "source": [
    "# no_syllable    = int(input(\"Enter the syllable number (1 to {0}): \".format(bird.no_syllables)))\n",
    "# syllable       = birdsong.Syllable(no_syllable=3)\n",
    "# ploter.Plot(syllable)\n",
    "# AudioPlay(syllable)"
   ]
  },
  {
   "cell_type": "code",
   "execution_count": null,
   "id": "cc48fee9-121f-40c1-93a5-3ab137d6f382",
   "metadata": {},
   "outputs": [],
   "source": [
    "# ploter.Plot(birdsong, FF_on=False, syllable_on=True, chunck_on=False)"
   ]
  },
  {
   "cell_type": "markdown",
   "id": "0a3515b0-b191-497e-9fcc-6b2b3bb45663",
   "metadata": {},
   "source": [
    "# Optimal Synthetic Syllable"
   ]
  },
  {
   "cell_type": "markdown",
   "id": "7b1edda3-a370-409c-a90d-e9b15fb5559a",
   "metadata": {},
   "source": [
    "Define optimization method and its parameters "
   ]
  },
  {
   "cell_type": "code",
   "execution_count": null,
   "id": "7e0d8eb5-aba1-44c1-a4ad-1b9ff5b37528",
   "metadata": {},
   "outputs": [],
   "source": [
    "brute     = {'method':'brute', 'Ns':11}  # , \"workers\":-1\n",
    "optimizer = bs.Optimizer(syllable, method_kwargs=brute)\n",
    "#?lmfit.minimize"
   ]
  },
  {
   "cell_type": "markdown",
   "id": "369a53ec-f654-4165-8614-3f32f50b6467",
   "metadata": {},
   "source": [
    "Find optimal $\\gamma$ for all the syllables computed by the syllables extractor. You can also just find the optimal for the single syllable"
   ]
  },
  {
   "cell_type": "code",
   "execution_count": null,
   "id": "e9486cbe-3266-499f-8857-9f3d7b40fb48",
   "metadata": {},
   "outputs": [],
   "source": [
    "# optimal_gamma = optimizer.OptimalGamma(syllable)\n",
    "optimal_gamma = 37000 # optimizer.AllGammas(birdsong)\n",
    "syllable.p[\"gm\"].set(value=optimal_gamma)"
   ]
  },
  {
   "cell_type": "code",
   "execution_count": null,
   "id": "8c56878b-fe66-4966-af86-df26760c9e4b",
   "metadata": {},
   "outputs": [],
   "source": [
    "syllable.p"
   ]
  },
  {
   "cell_type": "markdown",
   "id": "35536b97-0697-420e-81da-2f7cfbd1402d",
   "metadata": {},
   "source": [
    "Optimal $\\alpha$ and $\\beta$"
   ]
  },
  {
   "cell_type": "code",
   "execution_count": null,
   "id": "b7590e1e",
   "metadata": {},
   "outputs": [],
   "source": [
    "#              [a0, a1, a2, b0, b1, b2]\n",
    "# syllable.Set([0.01, 0, 0, -0.25, 1, 2])\n",
    "# syllable.p[\"b2\"].set(value=2)"
   ]
  },
  {
   "cell_type": "code",
   "execution_count": null,
   "id": "0d8f72aa-41cd-4672-8a5f-1547db9a09cb",
   "metadata": {
    "tags": []
   },
   "outputs": [],
   "source": [
    "optimizer.OptimalParams(syllable, Ns=5)"
   ]
  },
  {
   "cell_type": "markdown",
   "id": "b8253a82-e50a-42be-a058-1e3e35a67b69",
   "metadata": {},
   "source": [
    "Display optimal parameters and generate a synthetic syllable "
   ]
  },
  {
   "cell_type": "code",
   "execution_count": null,
   "id": "5ce0f7de-057e-4260-b8c7-9bc7799c6683",
   "metadata": {},
   "outputs": [],
   "source": [
    "Display(syllable.p)\n",
    "synth_syllable = syllable.Solve(syllable.p)"
   ]
  },
  {
   "cell_type": "markdown",
   "id": "9b85cedb-32de-4544-bc8a-b443aad3e986",
   "metadata": {},
   "source": [
    "Visualize and plot the synthetic syllable"
   ]
  },
  {
   "cell_type": "code",
   "execution_count": null,
   "id": "edec30cd-63b0-4927-84f8-1b017e965921",
   "metadata": {},
   "outputs": [],
   "source": [
    "ploter.PlotVs(synth_syllable);"
   ]
  },
  {
   "cell_type": "code",
   "execution_count": null,
   "id": "6b87a0fe",
   "metadata": {},
   "outputs": [],
   "source": [
    "ploter.PlotAlphaBeta(synth_syllable);"
   ]
  },
  {
   "cell_type": "code",
   "execution_count": null,
   "id": "ee4c439b",
   "metadata": {},
   "outputs": [],
   "source": [
    "ploter.Result(syllable, synth_syllable);"
   ]
  },
  {
   "cell_type": "code",
   "execution_count": null,
   "id": "5dcc631f",
   "metadata": {},
   "outputs": [],
   "source": [
    "ploter.Syllables(syllable, synth_syllable);"
   ]
  },
  {
   "cell_type": "code",
   "execution_count": null,
   "id": "b65b7928",
   "metadata": {},
   "outputs": [],
   "source": [
    "AudioPlay(syllable)"
   ]
  },
  {
   "cell_type": "code",
   "execution_count": null,
   "id": "0c9493aa-a90d-4d38-bc4a-461839c13c19",
   "metadata": {},
   "outputs": [],
   "source": [
    "AudioPlay(synth_syllable)"
   ]
  },
  {
   "cell_type": "markdown",
   "id": "480d8b16-e3c7-448f-b2bb-750d7e20581b",
   "metadata": {},
   "source": [
    "Write synthetic and real syllables"
   ]
  },
  {
   "cell_type": "code",
   "execution_count": null,
   "id": "55898c13-0c74-4c4b-8cec-0c5aa13ec7e2",
   "metadata": {},
   "outputs": [],
   "source": [
    "syllable.WriteAudio();  synth_syllable.WriteAudio();"
   ]
  }
 ],
 "metadata": {
  "kernelspec": {
   "display_name": "base",
   "language": "python",
   "name": "python3"
  },
  "language_info": {
   "codemirror_mode": {
    "name": "ipython",
    "version": 3
   },
   "file_extension": ".py",
   "mimetype": "text/x-python",
   "name": "python",
   "nbconvert_exporter": "python",
   "pygments_lexer": "ipython3",
   "version": "3.8.16"
  },
  "vscode": {
   "interpreter": {
    "hash": "72cba06b0007e5a3a447048ecef8a03a3b641e13f0af60af7bc1d7314371890e"
   }
  }
 },
 "nbformat": 4,
 "nbformat_minor": 5
}
