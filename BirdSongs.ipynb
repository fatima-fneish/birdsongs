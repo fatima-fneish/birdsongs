{
 "cells": [
  {
   "cell_type": "markdown",
   "id": "9ee163df-40aa-4bc7-9c96-6166649f20bd",
   "metadata": {},
   "source": [
    "<center> <h1> <b>Song Birds<b></h1> </center>\n",
    "<center> <h1>Model Automatization and Code Update</h1> </center>"
   ]
  },
  {
   "cell_type": "markdown",
   "id": "5dde1b43-316b-4adf-b034-17f06074df11",
   "metadata": {},
   "source": [
    "# Import Libraries, Functions, and Classes"
   ]
  },
  {
   "cell_type": "code",
   "execution_count": null,
   "id": "bbfd4bfb-7dad-4d64-9b31-4cbdc3887408",
   "metadata": {},
   "outputs": [],
   "source": [
    "from birdsongs.functions import *\n",
    "from birdsongs.song  import Song\n",
    "from birdsongs.plots import Ploter\n",
    "from birdsongs.paths import Paths\n",
    "from birdsongs.optimizer import Optimizer"
   ]
  },
  {
   "cell_type": "code",
   "execution_count": null,
   "id": "4430d165-0fa2-4541-b205-dcc60aed0055",
   "metadata": {},
   "outputs": [],
   "source": [
    "root_path = \"C:\\\\Users\\\\sebas\\\\Documents\\\\GitHub\\\\\" # root_path = '/home/siete/Downloads/audios/'\n",
    "bird_name = \"Zonotrichia capensis\"\n",
    "\n",
    "paths  = Paths(root_path, bird_name)\n",
    "ploter = Ploter(save=True)"
   ]
  },
  {
   "cell_type": "markdown",
   "id": "bd5bbdc9-b66e-45bc-8cb6-f2c3c9fa2410",
   "metadata": {},
   "source": [
    "Looking for all wav files in path folder and audios path"
   ]
  },
  {
   "cell_type": "markdown",
   "id": "6a5aae15-5419-4d48-ab11-8fb9d2ac8938",
   "metadata": {},
   "source": [
    "# Song "
   ]
  },
  {
   "cell_type": "code",
   "execution_count": null,
   "id": "b21005eb-4d9b-4bc1-adbc-d233571d1ce0",
   "metadata": {},
   "outputs": [],
   "source": [
    "no_file = 1 # int(input(\"Enter the number of song (1 to {0}): \".format(paths.no_files)))\n",
    "bird    = Song(paths, no_file)   "
   ]
  },
  {
   "cell_type": "markdown",
   "id": "c8f2b429-0703-4ca1-9226-465e0482b059",
   "metadata": {},
   "source": [
    "## Plot"
   ]
  },
  {
   "cell_type": "code",
   "execution_count": null,
   "id": "fa6083bf-7c0a-44c0-83e8-b49d850383cf",
   "metadata": {},
   "outputs": [],
   "source": [
    "ploter.PlotSong(bird)"
   ]
  },
  {
   "cell_type": "markdown",
   "id": "2ca73df1-5e39-44a9-a877-f5651231c550",
   "metadata": {},
   "source": [
    "select a region of the audio, add to song class time selection"
   ]
  },
  {
   "cell_type": "markdown",
   "id": "e705c9dc-51a2-417d-8301-e1b70e79f9d2",
   "metadata": {},
   "source": [
    "# Syllable i-th"
   ]
  },
  {
   "cell_type": "markdown",
   "id": "8d595fdc-185f-4b0a-8482-11f0d1a4a93f",
   "metadata": {},
   "source": [
    "## Definition"
   ]
  },
  {
   "cell_type": "code",
   "execution_count": null,
   "id": "88c48483-6353-4c2a-b911-e5dcf62392e2",
   "metadata": {},
   "outputs": [],
   "source": [
    "no_syllable    = 4 # int(input(\"Enter the syllable number (1 to {0}): \".format(bird.no_syllables)))\n",
    "syllable       = bird.Syllable(no_syllable)\n",
    "syllable_synth = syllable.Solve(bird.p)"
   ]
  },
  {
   "cell_type": "markdown",
   "id": "c7a76300-9f69-45c3-b847-efdfa9450bdb",
   "metadata": {},
   "source": [
    "## Plot"
   ]
  },
  {
   "cell_type": "code",
   "execution_count": null,
   "id": "4f6b6496-512c-4464-a897-b62d404d7bdb",
   "metadata": {
    "tags": []
   },
   "outputs": [],
   "source": [
    "syllable.p[\"a0\"].set(value=0.01)\n",
    "syllable_synth = syllable.Solve(bird.p)\n",
    "Display(syllable.p)\n",
    "\n",
    "# ploter.PlotSynth(syllable)\n",
    "# ploter.PlotVs(save=True)\n",
    "\n",
    "ploter.PlotAlphaBeta(syllable)\n",
    "ploter.Plot(syllable, syllable_synth)"
   ]
  },
  {
   "cell_type": "code",
   "execution_count": null,
   "id": "c3d9e2b0-30c5-4eb1-84d4-d7eeb2e48edb",
   "metadata": {},
   "outputs": [],
   "source": [
    "syllable.p[\"a0\"].set(value=0.11)\n",
    "syllable_synth = syllable.Solve(bird.p)\n",
    "Display(syllable.p)\n",
    "\n",
    "syllable_synth = syllable.Solve(syllable.p)\n",
    "\n",
    "ploter.PlotAlphaBeta(syllable)\n",
    "ploter.Plot(syllable, syllable_synth)"
   ]
  },
  {
   "cell_type": "code",
   "execution_count": null,
   "id": "0dfa3062-6c34-48e9-bcf6-d41718f50cb0",
   "metadata": {},
   "outputs": [],
   "source": [
    "syllable.p[\"a0\"].set(value=1.25)\n",
    "syllable_synth = syllable.Solve(bird.p)\n",
    "Display(syllable.p)\n",
    "\n",
    "syllable_synth = syllable.Solve(syllable.p)\n",
    "\n",
    "ploter.PlotAlphaBeta(syllable)\n",
    "ploter.Plot(syllable, syllable_synth)"
   ]
  },
  {
   "cell_type": "markdown",
   "id": "82d6b070-3242-45bc-b4a1-8db9840aacfc",
   "metadata": {
    "tags": []
   },
   "source": [
    "# Chunck i-th "
   ]
  },
  {
   "cell_type": "markdown",
   "id": "0c4a09e8-c296-4f3d-850c-df07c76a46af",
   "metadata": {},
   "source": [
    "## Definition"
   ]
  },
  {
   "cell_type": "code",
   "execution_count": null,
   "id": "3da226ac-c0f8-4ffb-bfeb-c4565a9b5eab",
   "metadata": {},
   "outputs": [],
   "source": [
    "no_chunck    = 1 # int(input(\"Enter the number of song (1 to {0}): \".format(bird.no_chuncks)))\n",
    "chunck       = bird.Chunck(no_chunck)\n",
    "chunck_synth = chunck.Solve(bird.p)"
   ]
  },
  {
   "cell_type": "markdown",
   "id": "45e728ff-a0b0-462a-8c74-48838dd3debd",
   "metadata": {},
   "source": [
    "## Plot"
   ]
  },
  {
   "cell_type": "code",
   "execution_count": null,
   "id": "3d5b7eda-e580-479d-b52b-911f86888bff",
   "metadata": {},
   "outputs": [],
   "source": [
    "Display(chunck.p)\n",
    "\n",
    "# ploter.PlotSynth(chunck)\n",
    "# ploter.PlotVs(chunck)\n",
    "\n",
    "ploter.PlotAlphaBeta(chunck)\n",
    "ploter.Plot(chunck, chunck_synth)"
   ]
  },
  {
   "cell_type": "code",
   "execution_count": null,
   "id": "39d58609-f510-4dbb-919f-541a2e6d677c",
   "metadata": {},
   "outputs": [],
   "source": [
    "# ploter.PlotVs(chunck_synth)\n",
    "# plt.plot(chunck.Vs[:,0])\n",
    "# plt.xlim((0, 500))"
   ]
  },
  {
   "cell_type": "markdown",
   "id": "845cbb12-10ae-47d2-857d-68eefd2fe558",
   "metadata": {},
   "source": [
    "# All Objects"
   ]
  },
  {
   "cell_type": "code",
   "execution_count": null,
   "id": "5bb2b5ec-1897-4e63-8a0b-94845d581ba4",
   "metadata": {},
   "outputs": [],
   "source": [
    "ploter.PlotSong(bird, syllable_on=True, chunck_on=True)"
   ]
  },
  {
   "cell_type": "markdown",
   "id": "d152ee85-6b91-4ee3-b3d0-429f9d871bbf",
   "metadata": {},
   "source": [
    "# Optimization Problem"
   ]
  },
  {
   "cell_type": "markdown",
   "id": "1f0937a1-e9d1-419a-9973-3cf6ff457e40",
   "metadata": {},
   "source": [
    "## General Problem"
   ]
  },
  {
   "cell_type": "markdown",
   "id": "a85e4aaf-6bc9-4954-81b0-30f5d04c79dc",
   "metadata": {},
   "source": [
    "General problem\n",
    "\n",
    "\\begin{equation}\n",
    "\\begin{aligned}\n",
    "\\underset{ \\gamma \\in \\mathbb{R},\\; a,b\\in \\mathbb{R}^2}{\\text{min}} &\\qquad  ||\\hat{SCI}_{real} - \\hat{SCI}_{synt} ( \\gamma,a,b)||  + || (\\hat{FF}_{real} - \\hat{FF}_{synt}(\\gamma,a,b)||\\\\\n",
    "    \\text { subject to }  & \\qquad \\gamma \\in D_{\\gamma}=[0.1, 100000] \\\\\n",
    "                          & \\qquad  b \\in D_b=[-1,0.5]\\times[0.2,2] \\\\\n",
    "                          & \\qquad  a \\in D_a=[0,0.25]\\times[-2,2] \n",
    "\\end{aligned}\n",
    "\\end{equation}\n",
    "\n",
    "with\n",
    "\n",
    "$$\n",
    "\\hat{SCI} := \\frac{1}{len(SCI)^2} SCI, \\qquad\n",
    "\\hat{FF}  := \\frac{1}{len(FF)^2} \\frac{FF}{10 \\; KHz}\n",
    "$$\n",
    "\n",
    "where $len()$ is the number of elements of the vector. "
   ]
  },
  {
   "cell_type": "markdown",
   "id": "79eff06e-8b8c-4cfa-9589-6fd8faa3522d",
   "metadata": {},
   "source": [
    "## Auxiliar Problems"
   ]
  },
  {
   "cell_type": "markdown",
   "id": "bde7fd4e-327f-4ef3-ad67-98e389bc4cd0",
   "metadata": {},
   "source": [
    "In order to solve it let's define three asociated problems\n",
    "\n",
    "### Optimal $\\gamma$\n",
    "\n",
    "\\begin{equation}\n",
    "\\begin{aligned}\n",
    "\\underset{ \\gamma \\in \\mathbb{R}}{\\text{min}} &\\qquad  || \\hat{SCI}_{real} - \\hat{SCI}_{synt} ( \\gamma)||  + || \\hat{FF}_{real} - \\hat{FF}_{synt}||\\\\\n",
    "    \\text { subject to }  & \\qquad 10000 <  \\gamma \\leq 100000\n",
    "\\end{aligned}\n",
    "\\end{equation}\n",
    "\n",
    "### Optimal $\\beta$ coeficients\n",
    "\n",
    "The second step is find the constants $b_i$\n",
    "\n",
    "\\begin{equation}\n",
    "\\begin{aligned}\n",
    "\\underset{b \\in \\mathbb{R}^2}{\\text{min}} &\\qquad || FF_{real} - FF_{synt} (b)||  \\\\\n",
    "    \\text { subject to }  & \\qquad -1 <  b_0 \\leq 0.5, \\\\\n",
    "                          &\\;\\; \\qquad 0.2 <  b_1 \\leq 2\n",
    "\\end{aligned}\n",
    "\\end{equation}\n",
    "\n",
    "with\n",
    "\n",
    "\\begin{gather}\n",
    "\\alpha(t) = a_0 + a_1 t, \\qquad  \\beta(t)=b_0  + b_1\\frac{FF_{real}}{10^4} \n",
    "\\end{gather}\n",
    "\n",
    "with $t\\in [0,T]$ where $T$ is the duration of the sillable (chunck).\n",
    "\n",
    "### Optimal $\\alpha$ coeficients\n",
    "\n",
    "The coefficients $a_0$ and $a_1$ are calculated with the first harmonic \n",
    "\n",
    "\\begin{equation}\n",
    "\\begin{aligned}\n",
    "\\underset{a \\in \\mathbb{R}^2}{\\text{min}} &\\qquad || \\overline{H}_{real}^{st} - \\overline{H}_{synt}^{st} (a)||  \\\\\n",
    "    \\text { subject to }  & \\qquad \\;\\; 0 <  a_0 \\leq 0.25, \\\\\n",
    "                          & \\qquad -2 <  a_1 \\leq 2\n",
    "\\end{aligned}\n",
    "\\end{equation}\n",
    "\n",
    "where $\\overline{H}^{st}$ is used to represent the first harmonic amplitude."
   ]
  },
  {
   "cell_type": "markdown",
   "id": "f230acff-298a-4036-a424-80fc27ac3e95",
   "metadata": {},
   "source": [
    "## Minimization Solvers and Parameters"
   ]
  },
  {
   "cell_type": "code",
   "execution_count": null,
   "id": "b299d976-7331-49f4-bae0-69f41a238762",
   "metadata": {},
   "outputs": [],
   "source": [
    "brute         = {'method':'brute', 'Ns':21} #, 'workers':-1} \n",
    "DualAnnealing = {'method':'dual_annealing','max_nfev':200, 'maxiter': 100}\n",
    "\n",
    "obj       = syllable # chunck\n",
    "optimizer = Optimizer(obj, method_kwargs=brute)"
   ]
  },
  {
   "cell_type": "code",
   "execution_count": null,
   "id": "86def702-9fa9-4695-bae6-43a4921831d3",
   "metadata": {},
   "outputs": [],
   "source": [
    "Display(chunck.p)\n",
    "obj_synth = obj.Solve(obj.p)\n",
    "\n",
    "ploter.PlotAlphaBeta(obj)\n",
    "ploter.Plot(obj, obj_synth)"
   ]
  },
  {
   "cell_type": "markdown",
   "id": "9feacb99-c9d8-4c50-83db-349fe7a3838b",
   "metadata": {},
   "source": [
    "You can check all the methods availables uncommenting the following line, check the **method** attribute"
   ]
  },
  {
   "cell_type": "code",
   "execution_count": null,
   "id": "f9c39768-9dc5-4e41-b93d-b4085d7d6ceb",
   "metadata": {},
   "outputs": [],
   "source": [
    "#?lmfit.minimize"
   ]
  },
  {
   "cell_type": "code",
   "execution_count": null,
   "id": "2f832e04-e2d0-43e7-947a-13d439a08d5d",
   "metadata": {},
   "outputs": [],
   "source": [
    "Gammas = optimizer.AllGammas(bird)\n",
    "#bird.p[\"gamma\"].set(value=optimizer.optimal_gamma, vary=False)"
   ]
  },
  {
   "cell_type": "code",
   "execution_count": null,
   "id": "1ff8ac7e-f8c8-4291-a564-1ea6f11a0622",
   "metadata": {},
   "outputs": [],
   "source": [
    "optimizer.optimal_gamma"
   ]
  },
  {
   "cell_type": "code",
   "execution_count": null,
   "id": "4f5bc172-e791-4165-9f05-3caef48edaf9",
   "metadata": {},
   "outputs": [],
   "source": [
    "Display(obj.p)\n",
    "obj_synth = obj.Solve(obj.p)\n",
    "\n",
    "ploter.PlotAlphaBeta(obj)\n",
    "ploter.Plot(obj, obj_synth)"
   ]
  },
  {
   "cell_type": "code",
   "execution_count": null,
   "id": "2099f3ef-75bf-4c12-9352-45cc2e3246f7",
   "metadata": {},
   "outputs": [],
   "source": [
    "#obj.p[\"gamma\"].set(value=optimizer.optimal_gamma)"
   ]
  },
  {
   "cell_type": "code",
   "execution_count": null,
   "id": "a2cec92d-698d-47b3-9411-4446f6396d16",
   "metadata": {},
   "outputs": [],
   "source": [
    "optimizer.OptimalAs(obj_synth)\n",
    "optimizer.OptimalBs(obj_synth)"
   ]
  },
  {
   "cell_type": "code",
   "execution_count": null,
   "id": "6e1daf32-5d2a-4ac6-8407-0cc3b01a2e01",
   "metadata": {},
   "outputs": [],
   "source": [
    "# optimizer.OptimalParameters()\n",
    "# Dsiplay(obj.p)"
   ]
  },
  {
   "cell_type": "code",
   "execution_count": null,
   "id": "bee18462-c3c2-4d7a-b3fb-74c7062bc9db",
   "metadata": {},
   "outputs": [],
   "source": []
  },
  {
   "cell_type": "markdown",
   "id": "9bb100e7-bdf7-4da7-abf0-64bdf2cd8a59",
   "metadata": {},
   "source": [
    "Finding optimal $\\gamma$, $b_0$, and $b_1$ by the brute method"
   ]
  },
  {
   "cell_type": "markdown",
   "id": "03c42eef-0301-4bcc-bb89-1874f136d378",
   "metadata": {},
   "source": [
    "## Minimization Solution"
   ]
  },
  {
   "cell_type": "code",
   "execution_count": null,
   "id": "b724d1c4-50da-4fb4-be38-a10b9ac85104",
   "metadata": {},
   "outputs": [],
   "source": [
    "#obj = syllable #syllable\n",
    "#Display(obj.p)"
   ]
  },
  {
   "cell_type": "code",
   "execution_count": null,
   "id": "d93321e2-eaad-4924-b559-cbe2fc98bb0f",
   "metadata": {},
   "outputs": [],
   "source": [
    "# piptrack(y=self.s, sr=self.fs, S=self.Sxx, n_fft=self.NN, hop_length=self.NN//2,\n",
    "#          fmin=self.flim[0], fmax=self.flim[1], threshold=0.1, win_length=None, \n",
    "#          center=self.center, pad_mode='constant', ref=None)\n",
    "\n"
   ]
  },
  {
   "cell_type": "code",
   "execution_count": null,
   "id": "5ce8a7ee-13a4-4601-9108-79f77d590b1d",
   "metadata": {},
   "outputs": [],
   "source": [
    "#magnitudes.max()"
   ]
  },
  {
   "cell_type": "code",
   "execution_count": null,
   "id": "21a72657-ebc1-41c0-8b2c-4e66d94a2220",
   "metadata": {},
   "outputs": [],
   "source": [
    "#optimizer.OptimalBs(brute)"
   ]
  },
  {
   "cell_type": "markdown",
   "id": "bb659208-8c70-4fe9-8db1-9c8c69ff20f7",
   "metadata": {},
   "source": [
    "## Plot Solution"
   ]
  },
  {
   "cell_type": "code",
   "execution_count": null,
   "id": "c1dc6f7e-656d-4ede-877d-cb4ab4944df3",
   "metadata": {},
   "outputs": [],
   "source": [
    "Display(obj.p)\n",
    "obj_synth = chunck.Solve(obj.p)"
   ]
  },
  {
   "cell_type": "code",
   "execution_count": null,
   "id": "0f0d3523-ede2-4e04-921a-dc06ef46e4dd",
   "metadata": {},
   "outputs": [],
   "source": [
    "Display(obj.p)\n",
    "\n",
    "# ploter.PlotSynth(obj)\n",
    "#ploter.PlotVs(obj_synth)\n",
    "\n",
    "ploter.PlotAlphaBeta(obj)\n",
    "ploter.Plot(obj, obj_synth)"
   ]
  },
  {
   "cell_type": "markdown",
   "id": "e0bfc8f4-4a23-48a0-8e59-46fcaaad9feb",
   "metadata": {},
   "source": [
    "## Write synthetic audio"
   ]
  },
  {
   "cell_type": "code",
   "execution_count": null,
   "id": "c635771a-bcd7-4218-850a-765d29062870",
   "metadata": {},
   "outputs": [],
   "source": [
    "syllable.WriteAudio()\n",
    "syllable_synth.WriteAudio()"
   ]
  },
  {
   "cell_type": "markdown",
   "id": "21cf8002-9093-4216-a298-782918952f0e",
   "metadata": {},
   "source": [
    "# Whole Song"
   ]
  },
  {
   "cell_type": "code",
   "execution_count": null,
   "id": "f120a1f2-cfd7-4fb0-a208-94d2c133a562",
   "metadata": {},
   "outputs": [],
   "source": [
    "#bird.WholeSong(brute, plot=True, syll_max=0)"
   ]
  },
  {
   "cell_type": "markdown",
   "id": "e983240c-041b-4798-8bfe-648d6992a952",
   "metadata": {},
   "source": [
    "## Optigam Gamma by Syllable\n",
    "\n",
    "Calculate optimal gamma for each syllable"
   ]
  },
  {
   "cell_type": "markdown",
   "id": "452e69ac-2300-4a0d-b3ef-6245606320f7",
   "metadata": {
    "tags": []
   },
   "source": [
    "# Proposal Functions"
   ]
  },
  {
   "cell_type": "code",
   "execution_count": null,
   "id": "3fc4ce50-43d5-487a-bb95-ae92021a463b",
   "metadata": {},
   "outputs": [],
   "source": [
    "#y    = np.abs(np.fft.rfft(bird.silaba.out_amp)) #[5:-5]\n",
    "#freq = np.fft.rfftfreq(bird.silaba.out_amp.size, d=1/bird.fs)#[5:-5]\n",
    "\n",
    "#freq, y = freq[5:-5], y # remove inital and final peaks\n",
    "#peaks, _ = find_peaks(y, distance=10, height=np.max(y)/10)\n",
    "#peaks = peakutils.indexes(y, thres=0.5, min_dist=30)\n",
    "\n",
    "#plt.plot(freq,y); #plt.xlim((1, 2e4))\n",
    "#plt.plot(freq[peaks[0]], y[peaks[0]], \"x\")"
   ]
  },
  {
   "cell_type": "code",
   "execution_count": null,
   "id": "7ddda640-b21e-4736-8155-3ff96492a619",
   "metadata": {},
   "outputs": [],
   "source": [
    "# Sxx,tn,fn,ext = sound.spectrogram(syllable.s, syllable.fs, fcrop=(2000,20000))   \n",
    "# Sxx_dB = util.power2dB(Sxx)+96\n",
    "\n",
    "# Sxx_dB_std05 = sound.smooth(Sxx_dB, std=0.5)\n",
    "# Sxx_dB_std10 = sound.smooth(Sxx_dB, std=1)\n",
    "# Sxx_dB_std15 = sound.smooth(Sxx_dB, std=1.5)\n",
    "\n",
    "# import matplotlib.pyplot as plt \n",
    "# #fig, (ax1, ax2, ax3, ax4) = plt.subplots(4, 1)\n",
    "# util.plot2d(Sxx_dB,  title='original')#, vmin=10, vmax=70)\n",
    "# util.plot2d(Sxx_dB_std05,   title='smooth (std=0.05)')#, vmin=10, vmax=70)\n",
    "# util.plot2d(Sxx_dB_std10,   title='smooth (std=1)')#, vmin=10, vmax=70)\n",
    "# util.plot2d(Sxx_dB_std15,   title='smooth (std=15.5)')#, vmin=10, vmax=70)\n",
    "# fig.set_size_inches(7,9)\n",
    "# fig.tight_layout()"
   ]
  },
  {
   "cell_type": "code",
   "execution_count": null,
   "id": "1ad04258-94ed-40c1-9cd4-14abc3e08431",
   "metadata": {},
   "outputs": [],
   "source": [
    "\n",
    "# fig, ax = plt.subplots()\n",
    "\n",
    "\n",
    "# S_dB = librosa.power_to_db(s_mel)\n",
    "# img = librosa.display.specshow(S_dB, x_axis='time',\n",
    "#                          y_axis='mel', sr=obj.fs,\n",
    "#                          fmax=8000, ax=ax)\n",
    "# fig.colorbar(img, ax=ax, format='%+2.0f dB')\n",
    "# ax.set(title='Mel-frequency spectrogram')\n",
    "\n",
    "#plt.plot(times_on, onset_env, 'o')\n",
    "#plt.plot(rolloff)\n",
    "\n",
    "# feature.spectral_flatness(y=obj.s, S=None, n_fft=2048, hop_length=512, win_length=None, \n",
    "#                           center=True, pad_mode='constant', amin=1e-10, power=2.0)[source]\n",
    "\n",
    "#fig, ax = plt.subplots()\n",
    "\n",
    "# img2 = display.specshow(mfccs, x_axis='time', ax=ax)\n",
    "# ax.set(title='HTK-style (dct_type=3)')\n",
    "# fig.colorbar(img2, ax=[ax])\n",
    "\n",
    "\n",
    "# img2 = display.specshow(contrast, x_axis='time', ax=ax)\n",
    "# fig.colorbar(img2)\n",
    "# ax.set(ylabel='Frequency bands', title='Spectral contrast')features.spectral_entropy(Sxx_power, fn, flim=(2000,10000)) "
   ]
  },
  {
   "cell_type": "markdown",
   "id": "195cdc05-4eb7-474c-930c-3dd1009cb6f8",
   "metadata": {},
   "source": [
    "## Video\n",
    "- Create a function to make video\n",
    "\n",
    "```` \n",
    "import os\n",
    "os.system(\"ffmpeg -f image2 -r 1/5 -i ./images/swissGenevaLake%01d.jpg -vcodec mpeg4 -y ./videos/swissGenevaLake.mp4\")\n",
    "````\n",
    "\n",
    "- Add audio to the video\n",
    "\n",
    "````\n",
    "ffmpeg -i yourvideo.avi -i sound.mp3 -c copy -map 0:v:0 -map 1:a:0 output.avi\n",
    "````"
   ]
  },
  {
   "cell_type": "markdown",
   "id": "a40645b7-4c53-4a3f-a2a2-83b42b005d85",
   "metadata": {},
   "source": [
    "# References\n",
    "\n",
    "{cite}`perez2011python`\n",
    "\n",
    "```{bibliography} references.bib\n",
    "```\n",
    "<div class=\"csl-entry\">[1] Amador, A., Perl, Y. S., Mindlin, G. B., &#38; Margoliash, D. (2013). Elemental gesture dynamics are encoded by song premotor cortical neurons. <i>Nature 2013 495:7439</i>, <i>495</i>(7439), 59–64. <a href=\"https://doi.org/10.1038/nature11967\">https://doi.org/10.1038/nature11967</a> </div>\n",
    "\n",
    "<br>\n",
    "\n",
    "<div class=\"csl-entry\">[2] Newville, M., Stensitzki, T., Allen, D. B., &#38; Ingargiola, A. (2014). <i>LMFIT: Non-Linear Least-Square Minimization and Curve-Fitting for Python</i>. <a href=\"https://doi.org/10.5281/ZENODO.11813\">https://doi.org/10.5281/ZENODO.11813</a> </div>\n"
   ]
  }
 ],
 "metadata": {
  "kernelspec": {
   "display_name": "Python 3 (ipykernel)",
   "language": "python",
   "name": "python3"
  },
  "language_info": {
   "codemirror_mode": {
    "name": "ipython",
    "version": 3
   },
   "file_extension": ".py",
   "mimetype": "text/x-python",
   "name": "python",
   "nbconvert_exporter": "python",
   "pygments_lexer": "ipython3",
   "version": "3.8.13"
  }
 },
 "nbformat": 4,
 "nbformat_minor": 5
}
