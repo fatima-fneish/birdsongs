{
 "cells": [
  {
   "cell_type": "markdown",
   "id": "9ee163df-40aa-4bc7-9c96-6166649f20bd",
   "metadata": {},
   "source": [
    "<center> <h1> <b>Song Birds<b></h1> </center>\n",
    "<center> <h2>Model Automatization and Code Update</h2> </center>"
   ]
  },
  {
   "cell_type": "markdown",
   "id": "5dde1b43-316b-4adf-b034-17f06074df11",
   "metadata": {},
   "source": [
    "# Import Libraries, Functions, and Classes"
   ]
  },
  {
   "cell_type": "code",
   "execution_count": null,
   "id": "4430d165-0fa2-4541-b205-dcc60aed0055",
   "metadata": {},
   "outputs": [],
   "source": [
    "from classes import *"
   ]
  },
  {
   "cell_type": "markdown",
   "id": "9d0b00f0-a339-4150-98ef-1a0ce0a42826",
   "metadata": {},
   "source": [
    "# Importing Audios"
   ]
  },
  {
   "cell_type": "markdown",
   "id": "bd5bbdc9-b66e-45bc-8cb6-f2c3c9fa2410",
   "metadata": {},
   "source": [
    "Looking for all wav files in folder, audios path"
   ]
  },
  {
   "cell_type": "code",
   "execution_count": null,
   "id": "115c3445-4c20-455b-b197-6c55a8ce1801",
   "metadata": {},
   "outputs": [],
   "source": [
    "#birdname      = 'Zonotrichia capensis'  # Nombre del ave\n",
    "print(\"Total number of songs: {}\".format(len(sound_files)))"
   ]
  },
  {
   "cell_type": "markdown",
   "id": "6a5aae15-5419-4d48-ab11-8fb9d2ac8938",
   "metadata": {},
   "source": [
    "# Choosing File, Silaba, and Chunck"
   ]
  },
  {
   "cell_type": "code",
   "execution_count": null,
   "id": "b21005eb-4d9b-4bc1-adbc-d233571d1ce0",
   "metadata": {},
   "outputs": [],
   "source": [
    "num_file, no_silaba, no_chunck = 2, 2, 0\n",
    "copeton = Song(sound_files[num_file])\n",
    "copeton.parametros"
   ]
  },
  {
   "cell_type": "markdown",
   "id": "447c7677-403e-4259-97b3-fe166552709c",
   "metadata": {},
   "source": [
    "## Plot Song, Silaba, and Chunck"
   ]
  },
  {
   "cell_type": "code",
   "execution_count": null,
   "id": "fa6083bf-7c0a-44c0-83e8-b49d850383cf",
   "metadata": {},
   "outputs": [],
   "source": [
    "copeton.SilabaNo(no_silaba)\n",
    "copeton.Chunck(no_chunck)\n",
    "copeton.Plot(sound_files[num_file], 0)"
   ]
  },
  {
   "cell_type": "markdown",
   "id": "79e445b0-d8c8-4e0a-a455-f21436b67ea0",
   "metadata": {
    "tags": []
   },
   "source": [
    "# Syllable i-th "
   ]
  },
  {
   "cell_type": "markdown",
   "id": "e705c9dc-51a2-417d-8301-e1b70e79f9d2",
   "metadata": {},
   "source": [
    "## Model Initial Parameters"
   ]
  },
  {
   "cell_type": "code",
   "execution_count": null,
   "id": "b299d976-7331-49f4-bae0-69f41a238762",
   "metadata": {},
   "outputs": [],
   "source": [
    "brute         = {'method':'brute', 'Ns':21}#, 'workers':-1} \n",
    "DualAnnealing = {'method':'dual_annealing','max_nfev':200, 'maxiter': 100}"
   ]
  },
  {
   "cell_type": "markdown",
   "id": "8d595fdc-185f-4b0a-8482-11f0d1a4a93f",
   "metadata": {},
   "source": [
    "## Syllable Object and Plots"
   ]
  },
  {
   "cell_type": "code",
   "execution_count": null,
   "id": "4f6b6496-512c-4464-a897-b62d404d7bdb",
   "metadata": {},
   "outputs": [],
   "source": [
    "copeton.silaba.OptSCI(copeton.parametros)\n",
    "copeton.silaba.PlotAlphaBeta()\n",
    "copeton.silaba.PlotSynth()\n",
    "copeton.silaba.Plot(0)"
   ]
  },
  {
   "cell_type": "code",
   "execution_count": null,
   "id": "3da226ac-c0f8-4ffb-bfeb-c4565a9b5eab",
   "metadata": {},
   "outputs": [],
   "source": [
    "#copeton.Chunck(-1)\n",
    "#copeton.chunck.OptSCI(parametros)\n",
    "#copeton.chunck.PlotAlphaBeta()\n",
    "#copeton.chunck.PlotSynth()\n",
    "#copeton.chunck.Plot(1)"
   ]
  },
  {
   "cell_type": "markdown",
   "id": "82d6b070-3242-45bc-b4a1-8db9840aacfc",
   "metadata": {
    "tags": []
   },
   "source": [
    "# Silaba i-th "
   ]
  },
  {
   "cell_type": "code",
   "execution_count": null,
   "id": "aa34cbe5-3690-4978-b592-f10b4d1ad2d2",
   "metadata": {},
   "outputs": [],
   "source": [
    "#copeton.SilabaNo(no_silaba+1)\n",
    "#copeton.chunck.time.size#"
   ]
  },
  {
   "cell_type": "markdown",
   "id": "d152ee85-6b91-4ee3-b3d0-429f9d871bbf",
   "metadata": {},
   "source": [
    "# Optimization Problem γ "
   ]
  },
  {
   "cell_type": "markdown",
   "id": "bde7fd4e-327f-4ef3-ad67-98e389bc4cd0",
   "metadata": {},
   "source": [
    "We are interested to solve the following optimization problem\n",
    "\n",
    "\\begin{equation}\n",
    "\\begin{aligned}\n",
    "\\underset{ \\gamma \\in \\mathbb{R}}{\\text{min}} &\\qquad || SCI_{real} - SCI_{synt} ( \\gamma)||  \\\\\n",
    "    \\text { subject to }  & \\qquad 0.1 <  \\gamma \\leq 100000\n",
    "\\end{aligned}\n",
    "\\end{equation}\n"
   ]
  },
  {
   "cell_type": "markdown",
   "id": "9bb100e7-bdf7-4da7-abf0-64bdf2cd8a59",
   "metadata": {},
   "source": [
    "Finding optimal $\\gamma$"
   ]
  },
  {
   "cell_type": "code",
   "execution_count": null,
   "id": "97c86bdb-d6da-4d3e-ac3e-4232851e804c",
   "metadata": {},
   "outputs": [],
   "source": [
    "brute[\"Ns\"] = 51\n",
    "copeton.p[\"gamma\"].set(vary=True)\n",
    "datos, t_exe = copeton.silaba.OptimizationSCI(copeton.p, **brute)  \n",
    "copeton.p[\"gamma\"].set(value=datos.params[\"gamma\"].value, vary=False)\n",
    "copeton.parametros[\"gamma\"] = datos.params[\"gamma\"].value #opt_gamma \n",
    "\n",
    "print(\"γ opt =  {0:.{4}f}\".format(copeton.p[\"gamma\"].value))\n",
    "print(\"Time of execution {0:.{4}f} min\".format(t_exe/60))"
   ]
  },
  {
   "cell_type": "markdown",
   "id": "4488a0d2-93cf-4ac3-9e4d-bf66016bbb14",
   "metadata": {},
   "source": [
    "## Tunnig $b_0$ and $b_1$ "
   ]
  },
  {
   "cell_type": "code",
   "execution_count": null,
   "id": "e652dcda-32a4-422d-8084-21c93035581b",
   "metadata": {},
   "outputs": [],
   "source": [
    "copeton.parametros"
   ]
  },
  {
   "cell_type": "code",
   "execution_count": null,
   "id": "e8f3bde0-24dd-4a5f-859b-2ba70297861a",
   "metadata": {},
   "outputs": [],
   "source": [
    "brute[\"Ns\"] = 21\n",
    "# ---------------- b1--------------------\n",
    "copeton.p[\"b1\"].set(vary=True)\n",
    "datos1, t_exe1 = copeton.silaba.OptimizationFF(copeton.p, **brute) \n",
    "copeton.p[\"b1\"].set(vary=False, value=datos.params[\"b1\"].value)\n",
    "copeton.parametros[\"b1\"] = datos.params[\"b1\"].value\n",
    "\n",
    "# ---------------- b0--------------------\n",
    "copeton.p[\"b0\"].set(vary=True)\n",
    "datos2, t_exe2 = copeton.silaba.OptimizationFF(copeton.p, **brute) \n",
    "copeton.p[\"b0\"].set(vary=False, value=datos.params[\"b0\"].value)\n",
    "copeton.parametros[\"b0\"] = datos.params[\"b0\"].value\n",
    "\n",
    "print(\"$b_0=${0:.{4}f}, $b_1=${1:.{4}f}\".format(copeton.params[\"b0\"].value, copeton.params[\"b1\"].value))\n",
    "print(\"Time of execution b1={0:.{3}f} min, b0={1:.{3}f} min, total={2:.{4}f}\".format(t_exe1/60, t_exe2/60, (t_exe1+t_exe2)/60))"
   ]
  },
  {
   "cell_type": "code",
   "execution_count": null,
   "id": "aa309b31-69e2-4854-b08c-9e2028e02e72",
   "metadata": {},
   "outputs": [],
   "source": [
    "copeton.silaba.OptSCI(copeton.parametros)\n",
    "copeton.silaba.PlotAlphaBeta()\n",
    "copeton.silaba.PlotSynth()\n",
    "copeton.silaba.Plot(0)"
   ]
  },
  {
   "cell_type": "code",
   "execution_count": null,
   "id": "3fc4ce50-43d5-487a-bb95-ae92021a463b",
   "metadata": {},
   "outputs": [],
   "source": [
    "#y    = np.abs(np.fft.rfft(copeton.silaba.out_amp)) #[5:-5]\n",
    "#freq = np.fft.rfftfreq(copeton.silaba.out_amp.size, d=1/copeton.fs)#[5:-5]\n",
    "\n",
    "#freq, y = freq[5:-5], y # remove inital and final peaks\n",
    "#peaks, _ = find_peaks(y, distance=10, height=np.max(y)/10)\n",
    "#peaks = peakutils.indexes(y, thres=0.5, min_dist=30)\n",
    "\n",
    "#plt.plot(freq,y); #plt.xlim((1, 2e4))\n",
    "#plt.plot(freq[peaks[0]], y[peaks[0]], \"x\")"
   ]
  },
  {
   "cell_type": "code",
   "execution_count": null,
   "id": "4f332c9f-9fd9-45dd-8f14-20711404d3da",
   "metadata": {},
   "outputs": [],
   "source": [
    "copeton.silaba.Audio(num_file,no_silaba)"
   ]
  },
  {
   "cell_type": "markdown",
   "id": "9a945285-6fc1-45ba-9d4e-28e1a97d0360",
   "metadata": {
    "tags": []
   },
   "source": [
    "## Optimization Problem All Parameters"
   ]
  },
  {
   "cell_type": "markdown",
   "id": "ccada20c-252e-4baa-930a-c99c8c253156",
   "metadata": {},
   "source": [
    "We are interested to solve the following optimization problem\n",
    "\n",
    "\\begin{equation}\n",
    "\\begin{aligned}\n",
    "\\underset{a,b \\in \\mathbb{R}^2}{\\text{min}} &\\qquad || FF_{real} - FF_{synt} (a,b)||  \\\\\n",
    "    \\text { subject to }  & \\qquad -1 <  a_i \\leq 1\\\\\n",
    "    \\qquad \\qquad \\; \\;   & \\qquad -1 <  b_i \\leq 1, \\qquad \\text{for }  i=1,2\n",
    "\\end{aligned}\n",
    "\\end{equation}\n",
    "\n",
    "where\n",
    "\n",
    "\\begin{gather}\n",
    "\\alpha(t) = a_0 + a_1 t, \\qquad  \\beta(t)=b_0 + b_1 t\\\\\n",
    "\\alpha(t) = \\vec{a} \\cdot \\vec{\\tau}, \\qquad \\beta(t) =  \\vec{b} \\cdot \\vec{\\tau}\n",
    "\\end{gather}\n",
    "\n",
    "\\begin{gather}\n",
    "\\alpha(t) = a_0 + a_1 t, \\qquad  \\beta(t)=b_0 g(FF_{real}) + b_1\n",
    "\\end{gather}\n",
    "\n",
    "with $\\vec{\\tau}=(1,t,t^2)$, $\\vec{a} = (a_0, a_1, a_2)$. and $\\vec{b}=(b_0, b_1, b_2)$. Since we are looking for lines in the parameter space the parameters $a_2=b_2=0$. "
   ]
  },
  {
   "cell_type": "markdown",
   "id": "5d2b1ddd-24ca-4919-abec-11ae458adeaf",
   "metadata": {},
   "source": [
    "# Next syllable"
   ]
  },
  {
   "cell_type": "code",
   "execution_count": null,
   "id": "ce7d61fb-4fcd-4ced-9991-4f735e862bfa",
   "metadata": {},
   "outputs": [],
   "source": [
    "copeton.parametros"
   ]
  },
  {
   "cell_type": "code",
   "execution_count": null,
   "id": "21a72657-ebc1-41c0-8b2c-4e66d94a2220",
   "metadata": {},
   "outputs": [],
   "source": [
    "copeton.SilabaNo(no_silaba+2)\n",
    "\n",
    "copeton.parametros[\"gamma\"] = opt_gamma \n",
    "#copeton.p[\"gamma\"].set(value=55000.045, vary=False)\n",
    "\n",
    "copeton.silaba.OptSCI(copeton.parametros)\n",
    "copeton.silaba.PlotAlphaBeta()\n",
    "copeton.silaba.PlotSynth()\n",
    "copeton.silaba.Plot(0)"
   ]
  },
  {
   "cell_type": "code",
   "execution_count": null,
   "id": "9b5017d9-abf7-44a7-a94d-0cdf790a04ba",
   "metadata": {},
   "outputs": [],
   "source": [
    "copeton.parametros"
   ]
  },
  {
   "cell_type": "code",
   "execution_count": null,
   "id": "0f0d3523-ede2-4e04-921a-dc06ef46e4dd",
   "metadata": {},
   "outputs": [],
   "source": []
  },
  {
   "cell_type": "markdown",
   "id": "452e69ac-2300-4a0d-b3ef-6245606320f7",
   "metadata": {
    "tags": []
   },
   "source": [
    "# Proposal Functions"
   ]
  },
  {
   "cell_type": "code",
   "execution_count": null,
   "id": "8f097583-17ec-4346-a8bc-f161fb7d4b17",
   "metadata": {},
   "outputs": [],
   "source": [
    "# s, time = copeton.silaba.out_amp, copeton.silaba.time_out\n",
    "# fs = copeton.silaba.fs\n",
    "# s_i, t = Windows(s, time, fs)\n",
    "# i = -2\n",
    "# f_msf, f_aff, amp = SpectralContentSynth(s_i[i], fs) # method=method\n",
    "# f_aff#s_i.shape\n",
    "\n",
    "# maximos = peakutils.indexes(np.abs(np.fft.rfft(s_i[i])), thres=0.15, min_dist=5)\n",
    "\n",
    "# plt.plot(np.fft.rfftfreq(s_i[i].shape[0], 1/fs),  np.abs(np.fft.rfft(s_i[i])))\n",
    "# #plt.plot(s_i[i])\n",
    "# #plt.plot(s)"
   ]
  },
  {
   "cell_type": "markdown",
   "id": "195cdc05-4eb7-474c-930c-3dd1009cb6f8",
   "metadata": {},
   "source": [
    "## Video\n",
    "- Create a function to make video\n",
    "\n",
    "```` \n",
    "import os\n",
    "os.system(\"ffmpeg -f image2 -r 1/5 -i ./images/swissGenevaLake%01d.jpg -vcodec mpeg4 -y ./videos/swissGenevaLake.mp4\")\n",
    "````\n",
    "\n",
    "- Add audio to the video\n",
    "\n",
    "````\n",
    "ffmpeg -i yourvideo.avi -i sound.mp3 -c copy -map 0:v:0 -map 1:a:0 output.avi\n",
    "````\n",
    "\n",
    "## Improve Pitch Extractor, extract harmonics\n",
    "\n",
    "## Improve Normalizer and Envelope\n",
    "\n",
    "## Make itartion for all sillables"
   ]
  },
  {
   "cell_type": "code",
   "execution_count": null,
   "id": "212fc472-087a-412f-9a02-cb3dac8f82d7",
   "metadata": {},
   "outputs": [],
   "source": []
  }
 ],
 "metadata": {
  "kernelspec": {
   "display_name": "Python 3 (ipykernel)",
   "language": "python",
   "name": "python3"
  },
  "language_info": {
   "codemirror_mode": {
    "name": "ipython",
    "version": 3
   },
   "file_extension": ".py",
   "mimetype": "text/x-python",
   "name": "python",
   "nbconvert_exporter": "python",
   "pygments_lexer": "ipython3",
   "version": "3.8.13"
  }
 },
 "nbformat": 4,
 "nbformat_minor": 5
}
